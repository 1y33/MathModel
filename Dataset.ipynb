{
 "cells": [
  {
   "cell_type": "code",
   "execution_count": 39,
   "id": "initial_id",
   "metadata": {
    "collapsed": true,
    "ExecuteTime": {
     "end_time": "2024-04-18T19:28:03.248603600Z",
     "start_time": "2024-04-18T19:28:02.491398200Z"
    }
   },
   "outputs": [
    {
     "data": {
      "text/plain": "Current Working Directory: D:\\Jupyter Lab\\MathModel\n",
      "text/html": "<pre style=\"white-space:pre;overflow-x:auto;line-height:normal;font-family:Menlo,'DejaVu Sans Mono',consolas,'Courier New',monospace\">Current Working Directory: D:\\Jupyter Lab\\MathModel\n</pre>\n"
     },
     "metadata": {},
     "output_type": "display_data"
    }
   ],
   "source": [
    "import torch\n",
    "import torch.nn as nn\n",
    "from torch_snippets import *\n",
    "import numpy as np \n",
    "import matplotlib.pyplot as plt\n",
    "%matplotlib inline\n",
    "\n",
    "import os\n",
    "os.chdir(\"D:\\Jupyter Lab\\MathModel\")\n",
    "print(\"Current Working Directory:\", os.getcwd())"
   ]
  },
  {
   "cell_type": "markdown",
   "source": [
    "formulas.norm.list -> contine formulele 135060\n",
    "test.lst \n",
    "train.lst    Toate au formatul  [image.png] - formula number \n",
    "valid.lst\n",
    "\n",
    "deci :\n",
    "toate formulele -> array de string-uri ( numpy / python lists ) o sa fac teste :\n",
    " "
   ],
   "metadata": {
    "collapsed": false
   },
   "id": "171f6233988dbf36"
  },
  {
   "cell_type": "code",
   "outputs": [
    {
     "data": {
      "text/plain": "(103559,\n '{ \\\\frac { \\\\partial \\\\bar { g } _ { \\\\mu \\\\nu } } { \\\\partial l _ { i } } } \\\\in \\\\mathrm { K e r } ( \\\\bar { F } ^ { \\\\dagger } )')"
     },
     "execution_count": 2,
     "metadata": {},
     "output_type": "execute_result"
    }
   ],
   "source": [
    "formulas_list = []\n",
    "with open(\"latex_data/latex_data/formulas.norm.lst\",\"r\") as f:\n",
    "    for line in f:\n",
    "        formulas_list.append(line.strip())\n",
    "        \n",
    "len(formulas_list), formulas_list[132]"
   ],
   "metadata": {
    "collapsed": false,
    "ExecuteTime": {
     "end_time": "2024-04-18T19:11:41.361802800Z",
     "start_time": "2024-04-18T19:11:41.097441400Z"
    }
   },
   "id": "26a1bb5183270c27",
   "execution_count": 2
  },
  {
   "cell_type": "code",
   "outputs": [
    {
     "data": {
      "text/plain": "(103536, '10007a9101.png')"
     },
     "execution_count": 3,
     "metadata": {},
     "output_type": "execute_result"
    }
   ],
   "source": [
    "# List the dir\n",
    "\n",
    "images = os.listdir(\"latex_data/latex_data/images_processed\")\n",
    "len(images),images[1]"
   ],
   "metadata": {
    "collapsed": false,
    "ExecuteTime": {
     "end_time": "2024-04-18T19:11:41.582216300Z",
     "start_time": "2024-04-18T19:11:41.359562800Z"
    }
   },
   "id": "b78d2cfff45f1d6e",
   "execution_count": 3
  },
  {
   "cell_type": "markdown",
   "source": [
    "deci am fiecare imagine intr o lista , fiecare ecuatie intr o lista. \n",
    "Deschid fisierul , citesc linia , dau split"
   ],
   "metadata": {
    "collapsed": false
   },
   "id": "5c4649a5d813fe0c"
  },
  {
   "cell_type": "code",
   "outputs": [],
   "source": [
    "valid_path = \"latex_data/latex_data/valid.lst\"\n",
    "train_path = \"latex_data/latex_data/train.lst\"\n",
    "test_path = \"latex_data/latex_data/test.lst\"\n",
    "\n",
    "\n",
    "def get_dict(path):\n",
    "    dict = {\n",
    "    \"image\" : [],\n",
    "    \"id_formula\" : [],\n",
    "    }\n",
    "    \n",
    "    with open(path,\"r\") as f:\n",
    "        for line in f:\n",
    "            s = line.split()\n",
    "            dict[\"image\"].append(s[0])\n",
    "            dict[\"id_formula\"].append(s[1])\n",
    "            \n",
    "    return dict\n",
    "    \n",
    "train_dict = get_dict(train_path)"
   ],
   "metadata": {
    "collapsed": false,
    "ExecuteTime": {
     "end_time": "2024-04-18T19:11:41.751904700Z",
     "start_time": "2024-04-18T19:11:41.572414300Z"
    }
   },
   "id": "f12b237d1210daf6",
   "execution_count": 4
  },
  {
   "cell_type": "code",
   "outputs": [
    {
     "name": "stdout",
     "output_type": "stream",
     "text": [
      "66667cee5b.png\n",
      "\n",
      "2\n",
      "\n",
      "d s ^ { 2 } = ( 1 - { \\frac { q c o s \\theta } { r } } ) ^ { \\frac { 2 } { 1 + \\alpha ^ { 2 } } } \\lbrace d r ^ { 2 } + r ^ { 2 } d \\theta ^ { 2 } + r ^ { 2 } s i n ^ { 2 } \\theta d \\varphi ^ { 2 } \\rbrace - { \\frac { d t ^ { 2 } } { ( 1 - { \\frac { q c o s \\theta } { r } } ) ^ { \\frac { 2 } { 1 + \\alpha ^ { 2 } } } } } \\, .\n"
     ]
    }
   ],
   "source": [
    "print(train_dict[\"image\"][1])\n",
    "print()\n",
    "print(train_dict[\"id_formula\"][1])\n",
    "print()\n",
    "print(formulas_list[int(train_dict[\"id_formula\"][1])-1])"
   ],
   "metadata": {
    "collapsed": false,
    "ExecuteTime": {
     "end_time": "2024-04-18T19:11:41.801026200Z",
     "start_time": "2024-04-18T19:11:41.705018300Z"
    }
   },
   "id": "3fa3c121baebcab0",
   "execution_count": 5
  },
  {
   "cell_type": "code",
   "outputs": [
    {
     "name": "stdout",
     "output_type": "stream",
     "text": [
      "(40, 200, 3)\n"
     ]
    }
   ],
   "source": [
    "from PIL import Image\n",
    "\n",
    "def show_image(path_2_images,image_id):\n",
    "    full_path = os.path.join(path_2_images,image_id)\n",
    "    image = Image.open(full_path)\n",
    "    image = np.array(image)\n",
    "    #plt.imshow(image)\n",
    "    #plt.show()\n",
    "    print(image.shape)\n",
    "\n",
    "path_2_images = \"latex_data/latex_data/images_processed\"\n",
    "len_train_image = len(train_dict[\"image\"])\n",
    "random_idx = np.random.randint(1,len_train_image)\n",
    "\n",
    "show_image(path_2_images,train_dict[\"image\"][random_idx])"
   ],
   "metadata": {
    "collapsed": false,
    "ExecuteTime": {
     "end_time": "2024-04-18T19:11:42.063128600Z",
     "start_time": "2024-04-18T19:11:41.720023800Z"
    }
   },
   "id": "d92f67db6f7bc3f3",
   "execution_count": 6
  },
  {
   "cell_type": "code",
   "outputs": [],
   "source": [],
   "metadata": {
    "collapsed": false,
    "ExecuteTime": {
     "end_time": "2024-04-15T16:50:24.029385400Z",
     "start_time": "2024-04-15T16:50:23.961348500Z"
    }
   },
   "id": "f6ff8242f2ebd8f7",
   "execution_count": 6
  },
  {
   "cell_type": "code",
   "outputs": [
    {
     "data": {
      "text/plain": "{'image': ['60ee748793.png',\n  '66667cee5b.png',\n  '1cbb05a562.png',\n  'ed164cc822.png',\n  'e265f9dc6b.png',\n  '242a58bc3a.png',\n  'a4d25113b2.png',\n  '72f6bc494a.png',\n  '3cf9d0b234.png',\n  '5be376c443.png',\n  '4dd5a0e4ad.png',\n  '6e7448ca84.png',\n  '5adf6fe332.png',\n  '4e9e19a3cf.png',\n  '3a950d09c0.png',\n  '5d1a1ed037.png',\n  '698111df57.png',\n  '73fdf824d0.png',\n  '35a6b52146.png',\n  '6fefdec123.png',\n  '2a7a69318b.png',\n  '2ce5749395.png',\n  '9016b4fca0.png',\n  '2cb87ed9c8.png',\n  '4765b43e98.png',\n  '33978e1330.png',\n  '3945cf2343.png',\n  '4c6c104eb5.png',\n  '5d58861c3f.png',\n  '2ae8eccc13.png',\n  '56f7827473.png',\n  '6176f74d0f.png',\n  '662ccce98f.png',\n  '2440895f67.png',\n  '45b9b7323d.png',\n  '672a31c2cc.png',\n  '10c37c445e.png',\n  '427968501c.png',\n  '65d334ea47.png',\n  '7ab1fc083e.png',\n  '5dab1ec4de.png',\n  '7d0867620d.png',\n  '67fcffa9a3.png',\n  '4b069edf09.png',\n  '2b8e14887f.png',\n  '1ba2cffb3c.png',\n  '7dfe32d42b.png',\n  '11421b7af6.png',\n  '22a003507e.png',\n  '17226e3e67.png',\n  '43f707d9b6.png',\n  '2df6c7abd6.png',\n  '7d791b3d50.png',\n  '1a87610486.png',\n  '50919ea0ce.png',\n  '7891985624.png',\n  'ae65a915db.png',\n  '4375e58a64.png',\n  '2c7002c337.png',\n  '12521128dc.png',\n  '25ad6cf3b0.png',\n  '489da689b3.png',\n  '224e79c77d.png',\n  '4f86c93855.png',\n  '5afd606d6c.png',\n  '64f51e3fbc.png',\n  '1fa9bb5655.png',\n  '50c17d7ef4.png',\n  '778496aed1.png',\n  '5aa85bc04d.png',\n  '6c2c59f99d.png',\n  '39baa93854.png',\n  '4849c785c7.png',\n  '46b3873fbc.png',\n  '712073fc17.png',\n  '6ffa4086e2.png',\n  '72e69b3f75.png',\n  '2d0a8b7347.png',\n  '616706dd5a.png',\n  '1dd5d34448.png',\n  '3cdc9f09c6.png',\n  'c49990f9c9.png',\n  '5f83ae277c.png',\n  '22692da57d.png',\n  'e2da14260e.png',\n  '396ff4def5.png',\n  '6bc6b638ef.png',\n  '7fb58b3ce2.png',\n  '1c5f0abd11.png',\n  '4552f04e75.png',\n  '4031e921fa.png',\n  '78a41122f4.png',\n  '5a8ba83188.png',\n  '795aa0d8b2.png',\n  '5fc2dd90f4.png',\n  '61ff1fa86d.png',\n  '58dfa3dbcf.png',\n  '7b701d6aba.png',\n  '5f96184332.png',\n  '742b30d224.png',\n  '67efc34ea9.png',\n  '47a37debff.png',\n  '2319dc19dd.png',\n  '3f4ac552d5.png',\n  '5a86fa9b1d.png',\n  '7e82073cd5.png',\n  '45e5afd956.png',\n  '24d85808a1.png',\n  '55d99738e5.png',\n  '526038ea4c.png',\n  '3c0c7b450c.png',\n  '490a32bf20.png',\n  '2763f1bb43.png',\n  '2fd32ca817.png',\n  '148efc192d.png',\n  '1a9a0575e7.png',\n  '7e3b3622f9.png',\n  'ff5d66560d.png',\n  '1cd201bfa8.png',\n  '57bb233b98.png',\n  '3a13510507.png',\n  '2358b58f46.png',\n  '24b499dc70.png',\n  '67f3e9e236.png',\n  '52c55aa311.png',\n  '31872ec89d.png',\n  '787a1f5717.png',\n  '5cdfccedbe.png',\n  '55783f169a.png',\n  'a20e473646.png',\n  '58e6560c6c.png',\n  '2fdcb5efee.png',\n  '121b29a34e.png',\n  '4b9c24d197.png',\n  '4a4f93cbe5.png',\n  '7149ecb438.png',\n  '7665dff25e.png',\n  '1eb0468393.png',\n  '12cc91e6d0.png',\n  '3ab85e1c73.png',\n  '57d8b6dd4a.png',\n  '2350414e35.png',\n  'c17e9094b3.png',\n  '70eb7647b5.png',\n  '6b36374d9d.png',\n  '4b79ffccd9.png',\n  '1481a60f40.png',\n  '44a2ebab25.png',\n  '40be12af5f.png',\n  '62fd4fd186.png',\n  '5b397b1cd0.png',\n  'cbd7757104.png',\n  '2983f1a42e.png',\n  '6da72deb03.png',\n  '5a0621bac5.png',\n  '68641b1f35.png',\n  '1de2776366.png',\n  'cb1a57840a.png',\n  '707fec2eb3.png',\n  '4fe7cc11b0.png',\n  '37b3dd5bd8.png',\n  '1f1d28bc77.png',\n  '5999b32439.png',\n  '13ef0a5f7d.png',\n  '7330bec29b.png',\n  '1ddfa77a15.png',\n  '532b6d7730.png',\n  '3dddd02569.png',\n  '4bb7d69576.png',\n  '2350b6d78e.png',\n  'df04b95eb0.png',\n  '3f0119b21c.png',\n  '3ae7d4c8aa.png',\n  '5a6fb6e214.png',\n  '20a17f575f.png',\n  '294619977e.png',\n  '1d883568bc.png',\n  '47cf711405.png',\n  '4695858a93.png',\n  '4a0cc80e74.png',\n  '542bfd32ab.png',\n  '6dbd31790b.png',\n  '77fb781660.png',\n  '607ee9e5c2.png',\n  '3362c78722.png',\n  '4fa16f1d3f.png',\n  '7a54e991b0.png',\n  '50a1f82ae6.png',\n  '256f1e5b2a.png',\n  '1c7a4617a5.png',\n  '1de6b57b0c.png',\n  '315201f078.png',\n  '2d2e6105f4.png',\n  '4e721cfe49.png',\n  '42c766c6dc.png',\n  '799f625cf9.png',\n  '323c465216.png',\n  '226979ee71.png',\n  '4d603c88f4.png',\n  '16a0874240.png',\n  '386bf9a37b.png',\n  '7352f31651.png',\n  '5d3a4f9d53.png',\n  '252f1b9cea.png',\n  '4c475e1afd.png',\n  '131a79148f.png',\n  '33fcdc8633.png',\n  '71feac6326.png',\n  '1e8595e5e1.png',\n  '3bf4f3ec2d.png',\n  '2581f66470.png',\n  '3b1cebad19.png',\n  '395413c90f.png',\n  '3b82cc7aee.png',\n  '7b00f012b2.png',\n  '9bcc0bb538.png',\n  '1be344a743.png',\n  '562c231867.png',\n  '78ef714591.png',\n  '173111e861.png',\n  '3f0ef5c2d1.png',\n  '3ab0d7b424.png',\n  '11a8eea207.png',\n  '738c6bc090.png',\n  '478234cbe5.png',\n  '1a882641b7.png',\n  '81ba9ce4a9.png',\n  '28a38729aa.png',\n  '1c2883bfac.png',\n  '3fdecf80a1.png',\n  '5f9a3eb396.png',\n  '580036eb68.png',\n  '6157449337.png',\n  '505cc30969.png',\n  'a43fa630b7.png',\n  '36fbd5706b.png',\n  '70a6e5b4b9.png',\n  '1420ac42ed.png',\n  '1e1bbaef2b.png',\n  '347196fad5.png',\n  '689d84bd57.png',\n  '7199fd1e3c.png',\n  '4f6c0a6083.png',\n  '5c01b8b718.png',\n  '7893ca4e1b.png',\n  '54682978af.png',\n  '3d6cbb761f.png',\n  '47b0771bd8.png',\n  '396bcb28c0.png',\n  '629c42b571.png',\n  '3bd3e38c6c.png',\n  '149b313ecf.png',\n  'e94fbdb3c3.png',\n  '234d3db18a.png',\n  '742d89ddeb.png',\n  '6e8fa596b4.png',\n  '49ca0559c8.png',\n  '534c7843ec.png',\n  '19c9f9219d.png',\n  '6f49be4f68.png',\n  '30a0e5b27c.png',\n  '3b4dd4f61d.png',\n  '7f22efe073.png',\n  '277fac3048.png',\n  'f1c1b75b1b.png',\n  '5b7bdc01b4.png',\n  '42b805b1d8.png',\n  '3ca343759c.png',\n  '1e216001c4.png',\n  '5f71c12252.png',\n  '4c32f7004f.png',\n  '4b836d0a2c.png',\n  'e6c3904a0c.png',\n  '7dd35fa179.png',\n  '20ceea5819.png',\n  '51a6e5dd63.png',\n  '177fda0427.png',\n  'e6abb29b53.png',\n  '33274d5123.png',\n  '4e0c819000.png',\n  '5c0583ceab.png',\n  '1c7d2271ab.png',\n  'e566e35a76.png',\n  '54e5851527.png',\n  '3faaa820d3.png',\n  '6b35aaf215.png',\n  '394f0f3fe5.png',\n  '3d455f1d1c.png',\n  '7467513585.png',\n  '18b4418f08.png',\n  '6f9af303a5.png',\n  '71e9f2ef59.png',\n  '4623987c43.png',\n  '21184c98a6.png',\n  '25346c4649.png',\n  '5ac8553f89.png',\n  '1a6ad5d0f5.png',\n  '61f7ecf1bf.png',\n  '40dfccc791.png',\n  '153407229b.png',\n  '2be537b9e3.png',\n  '56043a7864.png',\n  '531fb2a3ca.png',\n  '37e02be5cf.png',\n  '77f009c19a.png',\n  '5de0c822cf.png',\n  '5813db7bf7.png',\n  '4ff4ccee85.png',\n  '438ce70099.png',\n  '3152e5b5ad.png',\n  '73fc2e985e.png',\n  '6c2ba34b57.png',\n  '3d7bf0c732.png',\n  '4fe2b3c53c.png',\n  '545bdc02ca.png',\n  '4e6f914a8d.png',\n  '718c18ce99.png',\n  '20a6d707a0.png',\n  'fbffbcd491.png',\n  '4e4c16ef40.png',\n  '1015942522.png',\n  '11e04d81c5.png',\n  '336de40751.png',\n  '315c7b3eed.png',\n  '119cec3a3d.png',\n  '1be1fb7939.png',\n  '3e19ce7b87.png',\n  '7bdd525b27.png',\n  '74e13dac33.png',\n  '5c8ae6694c.png',\n  '5d297628db.png',\n  '6d498aaaf2.png',\n  '37a00adccd.png',\n  '61c32b5afd.png',\n  '4e6d45eb04.png',\n  'cd5afedf4f.png',\n  '3670b56b83.png',\n  '7c7dde3340.png',\n  '412e5c3dcf.png',\n  '3dcc7624c2.png',\n  '19d67be751.png',\n  '38b878380b.png',\n  '52861fae05.png',\n  '60ee89c612.png',\n  '2177654260.png',\n  '4a4d202235.png',\n  '11b8f564e0.png',\n  '772e39cdf2.png',\n  '34f9117856.png',\n  '2a381e5b6c.png',\n  '152f92a6b0.png',\n  '5919bec0f8.png',\n  '5f994804a7.png',\n  '5c9852d327.png',\n  '56c9b6c684.png',\n  '618271f3cb.png',\n  '56faad495b.png',\n  '729ab0ab1b.png',\n  '18b0d1e4ff.png',\n  'b9edb0bb87.png',\n  '16a2ab5d25.png',\n  '73dd08e58e.png',\n  '69c07928bb.png',\n  '490dcc5dd6.png',\n  '5e732200a9.png',\n  '71069928e1.png',\n  'edccba9380.png',\n  '4e7d3cee1d.png',\n  '6c685710b7.png',\n  '74bc680700.png',\n  '63eb8cad92.png',\n  '34f0b42880.png',\n  '1b9f888640.png',\n  '227187aa68.png',\n  'bd4589a12f.png',\n  '5953fb43fa.png',\n  '3d9a125931.png',\n  '47517e0005.png',\n  'af4fb44184.png',\n  '67e91357d9.png',\n  'bdadb47ded.png',\n  '3fba654036.png',\n  '662cbd36e7.png',\n  '6722c940a2.png',\n  '1cfcbaafde.png',\n  '72632adbf9.png',\n  '5bccec610e.png',\n  '24332daee4.png',\n  '2a54d2ba3b.png',\n  '658e2e67bb.png',\n  '4ec63b04f0.png',\n  '7655c206d2.png',\n  '2c06a9690c.png',\n  '63d175a5e0.png',\n  '19aa0666cc.png',\n  '2e6122dbfc.png',\n  '1d95e13fad.png',\n  '4c9f09e110.png',\n  '74190c896d.png',\n  '550610d5d3.png',\n  'd5c0896dd6.png',\n  '41dbc59f9c.png',\n  '7cf89ec296.png',\n  '412e20f23f.png',\n  '178ed65519.png',\n  '40e8f91d3e.png',\n  '216b9616b6.png',\n  '54a0a20a42.png',\n  '56113331d4.png',\n  '3982559db9.png',\n  '1e1505c92f.png',\n  '24d3cd46d2.png',\n  '3b7a1a6e70.png',\n  '1915502af4.png',\n  '6cd24e259e.png',\n  '6e33251164.png',\n  '795c17720d.png',\n  '62a80b376c.png',\n  '31546c8b41.png',\n  '46bc294f37.png',\n  '23d23c19eb.png',\n  '7cb32fac57.png',\n  '4f1986e78c.png',\n  '4c7fe5c962.png',\n  '7389651287.png',\n  '2d8ebc9df7.png',\n  '1955b98ce0.png',\n  '56077c7b8d.png',\n  '8adfa46d9e.png',\n  '14bb617dee.png',\n  '76653bc864.png',\n  '7620040742.png',\n  '20ecceacba.png',\n  '190a4d7839.png',\n  '2187611cd5.png',\n  '2817a56674.png',\n  '2dfcef9eb0.png',\n  '4e67fd1568.png',\n  '47bfa0eec5.png',\n  '6fa146daf6.png',\n  '7a6498e465.png',\n  '4c0346a484.png',\n  '667ed1d308.png',\n  '18dd5bebfe.png',\n  'e7dbdb276c.png',\n  '26a03f5f3e.png',\n  '1eba968689.png',\n  '28bee01ebd.png',\n  '1ccca004c3.png',\n  '8c0b3f6ff6.png',\n  '23ff5d43fa.png',\n  '75735bfa6b.png',\n  '68844fd309.png',\n  '2e35cd83e8.png',\n  '7fc9603050.png',\n  '7c6531f57f.png',\n  '43e44bc1e6.png',\n  '134ca7f589.png',\n  '124a510572.png',\n  '217c11c290.png',\n  '6a7d838ceb.png',\n  '2af5ce9da2.png',\n  '18d380f64a.png',\n  '4d1149ae54.png',\n  '2812d8bfc3.png',\n  '1d680e7a35.png',\n  '21af95c2df.png',\n  '20d488de0e.png',\n  '7d9ab20550.png',\n  '2d7d315ab7.png',\n  '7c95382414.png',\n  'de8534f55a.png',\n  '62756b2706.png',\n  'a6077cbcac.png',\n  '17f1c3c228.png',\n  '2b8c88ee64.png',\n  '3b48db8330.png',\n  '931e144505.png',\n  '7b549cf22c.png',\n  '7222c26c18.png',\n  '2eecb90b72.png',\n  '688df0df75.png',\n  '4a0e64d10d.png',\n  '488bd438ba.png',\n  '6516a2853c.png',\n  'f1959f2ba0.png',\n  '3d3af5cf5a.png',\n  '684b823b9f.png',\n  '6026138ebe.png',\n  '58b0af9a15.png',\n  '699cbf3379.png',\n  '45af0dfcca.png',\n  '36a8d9dc06.png',\n  '9eac02a9da.png',\n  '42b20bc6d2.png',\n  '759f4fc7c4.png',\n  '7a4a0fbe98.png',\n  'f95f5b6ca0.png',\n  '77a207b3bd.png',\n  '7927cb4cd3.png',\n  '50b736b0b3.png',\n  '3e30c4b1fe.png',\n  '47ab4b9eac.png',\n  '7611483793.png',\n  '5049616b13.png',\n  '2457925124.png',\n  '5319a5cd5b.png',\n  '47ece0f8c0.png',\n  '30a0b199f2.png',\n  '59f60efb0b.png',\n  'b58eb32942.png',\n  '6e3430c217.png',\n  '27a2603118.png',\n  '28bd09a362.png',\n  '783f45a74a.png',\n  '40438319b3.png',\n  '3bc0cd120b.png',\n  '7953333f74.png',\n  '12973ae6bf.png',\n  '51b9b3d233.png',\n  '3d592d51f4.png',\n  '2168ed75c2.png',\n  '62ebfd5a50.png',\n  '5e5e08a0ff.png',\n  '20386b7947.png',\n  '69f62b882a.png',\n  '4c9ed272d9.png',\n  '511af7f448.png',\n  '4fade9d45b.png',\n  '5ced0b6e06.png',\n  '2002a31c69.png',\n  '65504a130e.png',\n  '1de15504a5.png',\n  '1e244f5909.png',\n  '2feda5cee2.png',\n  '34a988525a.png',\n  '7cd6b7823a.png',\n  '10fd6c9d3b.png',\n  '6a1355bfe2.png',\n  '6c70a91560.png',\n  '77d2fb4eb6.png',\n  '4099955659.png',\n  '7c77facebb.png',\n  '3870f36b0a.png',\n  '1321dfa636.png',\n  '49ddb5edd3.png',\n  '20e5eb8023.png',\n  '58522752a3.png',\n  '2e80f95614.png',\n  '3daffde15e.png',\n  'a960f0d483.png',\n  '78388c122c.png',\n  '1e3d03189c.png',\n  '7840a3cb63.png',\n  '3c69b7b0e2.png',\n  '1c30697876.png',\n  '3d5173adba.png',\n  '66fbeaadc3.png',\n  '1532c71612.png',\n  '135b7e68ed.png',\n  '3d28f96cce.png',\n  'acf4358da0.png',\n  '74b9a16ada.png',\n  '2233f4b015.png',\n  '72586ce90c.png',\n  '5019c62bf3.png',\n  '59d59dd2aa.png',\n  '69f7e9ccf2.png',\n  '7139e6b6c4.png',\n  '33561ebcc0.png',\n  '7cf6a5cd8c.png',\n  '6fbe5abccb.png',\n  '77d8b27e5e.png',\n  '55fb69ef75.png',\n  '6cfb18298c.png',\n  '364367d4ca.png',\n  '54ecd49027.png',\n  '6bf1f71956.png',\n  '1c275ce7be.png',\n  '5ea177bd59.png',\n  'c5a5e86be4.png',\n  '31eb5311ab.png',\n  '5554b8bafe.png',\n  'ae2dfab323.png',\n  '57ee5200eb.png',\n  'c2815087ca.png',\n  'c93811c0a1.png',\n  '6b8fd26512.png',\n  '3347106f6c.png',\n  '380771147a.png',\n  '7e29bd9b2b.png',\n  '462d961136.png',\n  '20ecb2fa17.png',\n  '3077d2b5c5.png',\n  '26c18afc01.png',\n  '3b31ac97eb.png',\n  '34ff47642d.png',\n  '2bdee6dc8c.png',\n  '5aac83a092.png',\n  '49619f5e38.png',\n  '5ef7f48e2f.png',\n  '24d694e788.png',\n  '4ebb99e904.png',\n  '76d8be8e91.png',\n  '6a91cc4050.png',\n  '61db95d2d5.png',\n  '1b430de29b.png',\n  '4c50fe07a5.png',\n  '21983b6f45.png',\n  '2ee1cccd98.png',\n  '68d27e4c6b.png',\n  '5c7818e9bb.png',\n  '36fabb1629.png',\n  '2cb4925807.png',\n  '320edfe252.png',\n  '18c66a0966.png',\n  '432b66ec70.png',\n  '34a146d5cb.png',\n  '78087b54d2.png',\n  '6ca4ebfe75.png',\n  '45a0218f89.png',\n  '111bd8befd.png',\n  '3d0907a003.png',\n  '3077534c40.png',\n  'a7379b2793.png',\n  '1c7a5e88b7.png',\n  '45deabb336.png',\n  '3db78b4714.png',\n  '179ee2322b.png',\n  '5b6a5cc6a5.png',\n  '4b71e59fcd.png',\n  '42458ec06a.png',\n  '2480e734be.png',\n  '688672b558.png',\n  '5318f845f6.png',\n  'b18a1fb447.png',\n  '4b2b463726.png',\n  '4ef383bf1c.png',\n  '7b2a0c1fb6.png',\n  'c58200df88.png',\n  '6c24ee49a0.png',\n  '497b674d2d.png',\n  '1ba3ebbf0c.png',\n  '1213b8125f.png',\n  '43868b882e.png',\n  '2769dd9b8b.png',\n  '5619b13ab4.png',\n  '6a1b59a078.png',\n  '3549abd8d2.png',\n  '4fe7a39b99.png',\n  '1ccd797c55.png',\n  '77d5eedce4.png',\n  '78b2f220f2.png',\n  '66a04072d7.png',\n  '273e688d7e.png',\n  '2e86c71271.png',\n  '247cffb096.png',\n  '7ce85e3026.png',\n  '5e9540cb88.png',\n  '40caface69.png',\n  '4fd43678d5.png',\n  '7356a3b589.png',\n  '51f7423302.png',\n  '615be49b21.png',\n  '5c3a48f6b2.png',\n  '4b9e2e8659.png',\n  '62a8a1936a.png',\n  'dfef241e6c.png',\n  '1493d744aa.png',\n  'c5fb7b4822.png',\n  '7cc24f59f3.png',\n  '37041d1f7f.png',\n  'e3464d818a.png',\n  '49b1da67d5.png',\n  '1dace34d4a.png',\n  '6c1689ec47.png',\n  '16e7e8f3f2.png',\n  '108453837c.png',\n  '54ce26fd6d.png',\n  '16cb3262bd.png',\n  '7adad81603.png',\n  'da56fb536b.png',\n  '1da914be75.png',\n  '1f2c64922b.png',\n  '6597c474ab.png',\n  '2a20b5b1cf.png',\n  '4736919312.png',\n  '2aa5a25f06.png',\n  '7e38694661.png',\n  '51f0d37078.png',\n  '6bfb8ddf8c.png',\n  '33249f40f8.png',\n  'fb47c8400a.png',\n  '38ecfdce7e.png',\n  '6c0df8dbd1.png',\n  '93b145eb5e.png',\n  '374d5dcf51.png',\n  '4e40aa7ddc.png',\n  '706f13055c.png',\n  '355d2bb1b0.png',\n  '27b57bcd1f.png',\n  '1dcde3138e.png',\n  '62ca41ae62.png',\n  '3fef6d42a2.png',\n  '3b13d3cf38.png',\n  '2670b0a52c.png',\n  '5a6022ef11.png',\n  '76687e1577.png',\n  '62263f898d.png',\n  '3733924e20.png',\n  '5e6f762bde.png',\n  '44bbca7814.png',\n  '6031ff1d01.png',\n  '4bbcdcf152.png',\n  '1ce187f40a.png',\n  '4ed2183bb6.png',\n  '184acbfaf7.png',\n  '410a357212.png',\n  '377e3a8561.png',\n  '40a7157e7d.png',\n  '784bed712c.png',\n  '2b50c97ed0.png',\n  '27f2d26053.png',\n  '24c44bb286.png',\n  '349d518d66.png',\n  '3cfa82266e.png',\n  '5eba7d8a44.png',\n  '5193b149c1.png',\n  '17b91d8c32.png',\n  'deb12268ee.png',\n  '74540b5448.png',\n  '4972f72854.png',\n  '5e0187c848.png',\n  '2f18211d63.png',\n  '46d0ff38bf.png',\n  '2a8ab3e43c.png',\n  'ca912eb355.png',\n  '77eaeae3e4.png',\n  'f1a69e859d.png',\n  '43ed632fae.png',\n  '6bb7790b92.png',\n  '58cf29598d.png',\n  'efa360c71f.png',\n  '7a906e1e29.png',\n  '43b53998fc.png',\n  '263efbddad.png',\n  '6d34f3687e.png',\n  '2fc06d5ffa.png',\n  '150630c544.png',\n  '387f9d88dd.png',\n  '7e3fc2cd8a.png',\n  '3e4b91167c.png',\n  '76d665efaa.png',\n  'bc6584aadf.png',\n  '566c5e1ba4.png',\n  '16e90a4a4c.png',\n  '489f58d4e6.png',\n  '6922a6c959.png',\n  '6d751e80a1.png',\n  '7d7f34a745.png',\n  '47d61cf5f0.png',\n  '41d1835b9d.png',\n  '62657b5e68.png',\n  '319dd0463f.png',\n  '2bceca2af5.png',\n  '1fa7f3fa13.png',\n  '28a7805724.png',\n  '4f62e74af6.png',\n  'd41e91c436.png',\n  '7f9cb5466e.png',\n  '49e0f63e9d.png',\n  '18fcea5309.png',\n  '4ccb9dd306.png',\n  '4ad52b90e0.png',\n  '3d7079863e.png',\n  '756fcfed82.png',\n  '1466d6bf21.png',\n  '31da825201.png',\n  '164c43af41.png',\n  '49e504bde5.png',\n  '3fdfd3011e.png',\n  '1434096391.png',\n  '1671b4d29f.png',\n  '6f85e24401.png',\n  '71e97fae64.png',\n  '1a5e4f1ea5.png',\n  '5c5c0536ca.png',\n  '7a8a88a457.png',\n  '70f7d8cb2f.png',\n  '2efe089406.png',\n  '536023b45b.png',\n  '424dd560d5.png',\n  'd72dcd4146.png',\n  '163bb3b656.png',\n  '4652f0eee3.png',\n  '79230f17fe.png',\n  '3e4e1d1c9c.png',\n  '37122e6049.png',\n  '5a32b3ae99.png',\n  '4ae0099f82.png',\n  '132e4fe98e.png',\n  '6661013ddc.png',\n  '53848ae56b.png',\n  '1a09f0e488.png',\n  '22ebca097d.png',\n  '5fe9341510.png',\n  '8fc62d8cee.png',\n  '415254995a.png',\n  '2bbcda22c8.png',\n  '2a8be07a0d.png',\n  '393fe5be69.png',\n  '3d674765e3.png',\n  '76a11a58c5.png',\n  '6c29c29288.png',\n  '4a9defb409.png',\n  '394b9c6f7a.png',\n  '55928482f0.png',\n  '66d373e188.png',\n  '511e378fdc.png',\n  '5a97c95d42.png',\n  '6fd193ddff.png',\n  '7f66b07a62.png',\n  '686db389cb.png',\n  '558cb70d57.png',\n  '72d002f812.png',\n  '23ec2a9866.png',\n  '4ebe29dcdc.png',\n  'ecddd11060.png',\n  '3185c48802.png',\n  '4f6a6bf201.png',\n  '3dbf43363a.png',\n  '4f8503ee9d.png',\n  '538fef06b2.png',\n  '7d471c4099.png',\n  'f79d80b12c.png',\n  '23a0256e05.png',\n  '4e01ccc31a.png',\n  '2bc4a215e1.png',\n  '286b161118.png',\n  '267a44a011.png',\n  '786c9a4c35.png',\n  '64df465ef2.png',\n  '4539737602.png',\n  '4bdf6fd523.png',\n  '8f3748e911.png',\n  '795b27411f.png',\n  'a219448585.png',\n  '2336fcc2f1.png',\n  '607728aa68.png',\n  '30dbabc472.png',\n  '285feda2c2.png',\n  '329e5a0233.png',\n  '795e058d5e.png',\n  '6d2a1c8fd2.png',\n  '2bcf312d4d.png',\n  '2e26b03a14.png',\n  '465798ba74.png',\n  '10b43f9ed8.png',\n  '50f03ab5e7.png',\n  '4c3ade589c.png',\n  '6535c971df.png',\n  '51973bf662.png',\n  '31d37292e5.png',\n  '21f28c027e.png',\n  '471d4175f7.png',\n  '42413b33eb.png',\n  '34375303b9.png',\n  'e8fac80be0.png',\n  '3948c68dfe.png',\n  'aa9c1f0792.png',\n  '800beaf2d4.png',\n  '6b309bd9e0.png',\n  '333eac3e9f.png',\n  '2296f849c2.png',\n  '30f320a4ae.png',\n  'bc13232098.png',\n  '40e9bc17aa.png',\n  '60577e99a1.png',\n  '55141725a8.png',\n  '633712725b.png',\n  '56d58715d5.png',\n  '6d6e4f3920.png',\n  '571314b80e.png',\n  '14fffb7ef9.png',\n  '180d06c7af.png',\n  '32a64a6e80.png',\n  '3c1d34583b.png',\n  '1a2262a3e2.png',\n  '200f79bf14.png',\n  'ef10941593.png',\n  '4ba7bc9664.png',\n  '5dcd648dea.png',\n  '29a11d16e3.png',\n  '104c5cec5a.png',\n  '66843f7a8a.png',\n  '2a2d9f39aa.png',\n  '25a3d6b46b.png',\n  '60e35372bc.png',\n  '20470c3d5f.png',\n  '19ac621c4b.png',\n  '61767f5294.png',\n  '144b2d2e28.png',\n  '563c9431a8.png',\n  '17ca3dffd5.png',\n  '1bfa30705e.png',\n  '6fc60ca609.png',\n  '770dc28f78.png',\n  '3ca0c7ac03.png',\n  '423d773dcb.png',\n  '519fd1e2fb.png',\n  '59e39d419e.png',\n  'ea5d248db1.png',\n  '6f1ab166cc.png',\n  '5bff0a38a1.png',\n  '2fc1e7fcc2.png',\n  '36db4ef842.png',\n  '7a1dfbd2c6.png',\n  '6a6c66fa35.png',\n  '49f7ef5e7f.png',\n  '7f6c3f733a.png',\n  '72cd73e3fc.png',\n  '476dc540c6.png',\n  '5ef3c5aeb5.png',\n  'b983081c20.png',\n  '315cf51485.png',\n  '7143f48d58.png',\n  'e24c3f4e6f.png',\n  '291079c9a1.png',\n  '510b399a88.png',\n  '4a4504763a.png',\n  '1ce7228d64.png',\n  '3ed1811a11.png',\n  '5526cb33ba.png',\n  '4c771e5d8d.png',\n  '5e00455730.png',\n  '4283836403.png',\n  '722bb569c5.png',\n  '595590b7e8.png',\n  '1a7e8d1333.png',\n  '5cb004690c.png',\n  '4f72f03a17.png',\n  '4fc0d0ec27.png',\n  '5b96550a78.png',\n  'e9dc7d41ca.png',\n  '49f67696d5.png',\n  '1217bd8f1d.png',\n  '6cbd0c7fe8.png',\n  '38b2ecc51b.png',\n  '479451ab62.png',\n  '11895d7783.png',\n  '6543572ddf.png',\n  '5c6e3cc01b.png',\n  '4367b5a997.png',\n  '39bd7f2eb1.png',\n  '6b163810f9.png',\n  '53f10fa028.png',\n  '5be5b9ea3a.png',\n  '27ce115903.png',\n  '2fd98031ef.png',\n  '73777fd164.png',\n  '620f246ccd.png',\n  '6f7b490cd8.png',\n  '7b418b75bb.png',\n  '374b14a9e6.png',\n  '2c9cd58cd6.png',\n  '4df2dff0fd.png',\n  '1e620b0c7e.png',\n  '5748851b0c.png',\n  'd72f0a6679.png',\n  '7ab9e7d621.png',\n  'eff7d842fa.png',\n  '3327ed57d9.png',\n  '431447bdac.png',\n  '30dc35d1d6.png',\n  '364cb30e29.png',\n  '3c74b863a0.png',\n  '5c694c0429.png',\n  '3ababaa6cf.png',\n  '20dd60b1d2.png',\n  '4f1db6e7af.png',\n  'acabe87319.png',\n  '7509f075f4.png',\n  '3247753099.png',\n  '365c1f2ea1.png',\n  '735c27ea30.png',\n  '69d985769c.png',\n  '39cf19e6da.png',\n  '33896ff615.png',\n  '2e19520cb8.png',\n  '312115ab85.png',\n  '7a4be14d00.png',\n  '6f938716f0.png',\n  '4626a83fec.png',\n  '3f2e1a4a34.png',\n  '1167785aed.png',\n  '15f86a38e4.png',\n  '18a7881fb4.png',\n  '463a17f16e.png',\n  '4e8fdd5c55.png',\n  '72b79beec2.png',\n  ...],\n 'id_formula': ['1',\n  '2',\n  '3',\n  '4',\n  '5',\n  '7',\n  '8',\n  '9',\n  '12',\n  '13',\n  '15',\n  '17',\n  '18',\n  '19',\n  '20',\n  '21',\n  '22',\n  '23',\n  '24',\n  '25',\n  '27',\n  '28',\n  '30',\n  '31',\n  '32',\n  '33',\n  '34',\n  '35',\n  '36',\n  '38',\n  '39',\n  '40',\n  '41',\n  '42',\n  '43',\n  '44',\n  '47',\n  '48',\n  '50',\n  '51',\n  '52',\n  '53',\n  '54',\n  '55',\n  '56',\n  '58',\n  '59',\n  '60',\n  '62',\n  '63',\n  '64',\n  '66',\n  '67',\n  '71',\n  '72',\n  '73',\n  '74',\n  '75',\n  '77',\n  '78',\n  '79',\n  '80',\n  '81',\n  '82',\n  '83',\n  '86',\n  '87',\n  '89',\n  '90',\n  '93',\n  '96',\n  '97',\n  '98',\n  '99',\n  '100',\n  '103',\n  '104',\n  '106',\n  '107',\n  '110',\n  '111',\n  '112',\n  '113',\n  '114',\n  '116',\n  '117',\n  '118',\n  '119',\n  '120',\n  '121',\n  '122',\n  '123',\n  '124',\n  '127',\n  '128',\n  '129',\n  '131',\n  '133',\n  '134',\n  '136',\n  '137',\n  '138',\n  '139',\n  '141',\n  '143',\n  '145',\n  '147',\n  '148',\n  '149',\n  '152',\n  '153',\n  '154',\n  '156',\n  '158',\n  '159',\n  '160',\n  '161',\n  '162',\n  '163',\n  '164',\n  '167',\n  '168',\n  '169',\n  '170',\n  '171',\n  '172',\n  '174',\n  '175',\n  '176',\n  '177',\n  '178',\n  '179',\n  '182',\n  '183',\n  '186',\n  '187',\n  '188',\n  '191',\n  '192',\n  '194',\n  '195',\n  '196',\n  '197',\n  '198',\n  '199',\n  '201',\n  '202',\n  '204',\n  '205',\n  '206',\n  '207',\n  '208',\n  '209',\n  '211',\n  '213',\n  '214',\n  '218',\n  '219',\n  '220',\n  '221',\n  '222',\n  '225',\n  '226',\n  '227',\n  '228',\n  '229',\n  '230',\n  '232',\n  '233',\n  '234',\n  '235',\n  '237',\n  '238',\n  '239',\n  '240',\n  '242',\n  '243',\n  '244',\n  '245',\n  '246',\n  '247',\n  '248',\n  '251',\n  '254',\n  '255',\n  '257',\n  '259',\n  '260',\n  '261',\n  '263',\n  '264',\n  '265',\n  '266',\n  '267',\n  '268',\n  '269',\n  '271',\n  '272',\n  '273',\n  '274',\n  '275',\n  '276',\n  '278',\n  '279',\n  '280',\n  '281',\n  '282',\n  '283',\n  '284',\n  '285',\n  '286',\n  '288',\n  '289',\n  '290',\n  '292',\n  '293',\n  '295',\n  '296',\n  '297',\n  '298',\n  '299',\n  '300',\n  '301',\n  '304',\n  '305',\n  '307',\n  '308',\n  '309',\n  '310',\n  '311',\n  '313',\n  '315',\n  '316',\n  '317',\n  '318',\n  '319',\n  '320',\n  '321',\n  '322',\n  '323',\n  '324',\n  '325',\n  '326',\n  '327',\n  '328',\n  '329',\n  '330',\n  '333',\n  '334',\n  '335',\n  '336',\n  '337',\n  '340',\n  '341',\n  '342',\n  '343',\n  '345',\n  '347',\n  '348',\n  '349',\n  '351',\n  '352',\n  '353',\n  '354',\n  '355',\n  '356',\n  '357',\n  '358',\n  '360',\n  '361',\n  '362',\n  '363',\n  '364',\n  '367',\n  '368',\n  '369',\n  '371',\n  '373',\n  '374',\n  '375',\n  '377',\n  '378',\n  '379',\n  '380',\n  '382',\n  '383',\n  '385',\n  '386',\n  '388',\n  '390',\n  '391',\n  '393',\n  '394',\n  '395',\n  '396',\n  '397',\n  '399',\n  '400',\n  '401',\n  '402',\n  '403',\n  '404',\n  '405',\n  '409',\n  '410',\n  '411',\n  '414',\n  '415',\n  '416',\n  '419',\n  '421',\n  '422',\n  '424',\n  '425',\n  '427',\n  '428',\n  '430',\n  '432',\n  '433',\n  '434',\n  '435',\n  '438',\n  '440',\n  '441',\n  '442',\n  '444',\n  '445',\n  '446',\n  '447',\n  '449',\n  '450',\n  '453',\n  '455',\n  '457',\n  '458',\n  '459',\n  '461',\n  '463',\n  '464',\n  '465',\n  '466',\n  '467',\n  '468',\n  '470',\n  '471',\n  '473',\n  '474',\n  '475',\n  '476',\n  '477',\n  '478',\n  '479',\n  '482',\n  '483',\n  '484',\n  '485',\n  '486',\n  '488',\n  '490',\n  '491',\n  '492',\n  '493',\n  '495',\n  '496',\n  '497',\n  '499',\n  '500',\n  '501',\n  '502',\n  '504',\n  '505',\n  '506',\n  '507',\n  '508',\n  '509',\n  '510',\n  '511',\n  '512',\n  '514',\n  '516',\n  '517',\n  '519',\n  '521',\n  '523',\n  '524',\n  '525',\n  '526',\n  '528',\n  '529',\n  '530',\n  '531',\n  '532',\n  '534',\n  '535',\n  '536',\n  '538',\n  '539',\n  '540',\n  '542',\n  '544',\n  '546',\n  '547',\n  '548',\n  '549',\n  '550',\n  '552',\n  '556',\n  '557',\n  '560',\n  '561',\n  '562',\n  '563',\n  '564',\n  '566',\n  '567',\n  '568',\n  '570',\n  '571',\n  '573',\n  '574',\n  '576',\n  '577',\n  '578',\n  '579',\n  '580',\n  '581',\n  '582',\n  '583',\n  '584',\n  '585',\n  '586',\n  '587',\n  '588',\n  '591',\n  '592',\n  '593',\n  '594',\n  '596',\n  '597',\n  '598',\n  '599',\n  '602',\n  '603',\n  '604',\n  '605',\n  '606',\n  '607',\n  '610',\n  '611',\n  '613',\n  '614',\n  '615',\n  '616',\n  '617',\n  '618',\n  '619',\n  '620',\n  '621',\n  '623',\n  '626',\n  '627',\n  '631',\n  '633',\n  '634',\n  '636',\n  '640',\n  '641',\n  '642',\n  '644',\n  '646',\n  '647',\n  '648',\n  '652',\n  '653',\n  '654',\n  '655',\n  '656',\n  '657',\n  '658',\n  '660',\n  '663',\n  '664',\n  '668',\n  '670',\n  '671',\n  '673',\n  '674',\n  '675',\n  '676',\n  '678',\n  '680',\n  '683',\n  '684',\n  '686',\n  '687',\n  '689',\n  '691',\n  '693',\n  '694',\n  '695',\n  '697',\n  '698',\n  '701',\n  '702',\n  '703',\n  '705',\n  '707',\n  '709',\n  '712',\n  '713',\n  '714',\n  '715',\n  '716',\n  '719',\n  '720',\n  '721',\n  '722',\n  '723',\n  '724',\n  '725',\n  '726',\n  '727',\n  '729',\n  '730',\n  '732',\n  '733',\n  '736',\n  '738',\n  '740',\n  '741',\n  '743',\n  '744',\n  '745',\n  '746',\n  '747',\n  '748',\n  '749',\n  '750',\n  '751',\n  '752',\n  '754',\n  '755',\n  '757',\n  '759',\n  '760',\n  '761',\n  '762',\n  '763',\n  '764',\n  '765',\n  '766',\n  '767',\n  '768',\n  '769',\n  '773',\n  '775',\n  '776',\n  '777',\n  '778',\n  '780',\n  '781',\n  '782',\n  '783',\n  '784',\n  '785',\n  '786',\n  '787',\n  '789',\n  '790',\n  '792',\n  '795',\n  '796',\n  '797',\n  '801',\n  '802',\n  '803',\n  '805',\n  '806',\n  '807',\n  '808',\n  '809',\n  '810',\n  '811',\n  '812',\n  '813',\n  '814',\n  '815',\n  '816',\n  '817',\n  '819',\n  '820',\n  '821',\n  '822',\n  '825',\n  '826',\n  '829',\n  '831',\n  '834',\n  '836',\n  '837',\n  '838',\n  '839',\n  '840',\n  '841',\n  '842',\n  '844',\n  '845',\n  '846',\n  '847',\n  '848',\n  '850',\n  '851',\n  '852',\n  '854',\n  '855',\n  '856',\n  '858',\n  '860',\n  '861',\n  '864',\n  '865',\n  '869',\n  '870',\n  '871',\n  '872',\n  '873',\n  '874',\n  '875',\n  '876',\n  '877',\n  '879',\n  '882',\n  '883',\n  '886',\n  '888',\n  '889',\n  '890',\n  '891',\n  '892',\n  '896',\n  '897',\n  '899',\n  '901',\n  '903',\n  '904',\n  '905',\n  '907',\n  '910',\n  '911',\n  '912',\n  '913',\n  '914',\n  '916',\n  '917',\n  '918',\n  '919',\n  '920',\n  '921',\n  '922',\n  '924',\n  '925',\n  '926',\n  '927',\n  '928',\n  '929',\n  '930',\n  '931',\n  '932',\n  '933',\n  '934',\n  '935',\n  '937',\n  '938',\n  '939',\n  '940',\n  '941',\n  '942',\n  '943',\n  '944',\n  '945',\n  '947',\n  '950',\n  '951',\n  '952',\n  '954',\n  '955',\n  '956',\n  '957',\n  '961',\n  '962',\n  '963',\n  '964',\n  '965',\n  '968',\n  '969',\n  '970',\n  '974',\n  '975',\n  '977',\n  '978',\n  '981',\n  '982',\n  '985',\n  '986',\n  '988',\n  '989',\n  '991',\n  '992',\n  '993',\n  '994',\n  '996',\n  '997',\n  '998',\n  '1001',\n  '1002',\n  '1003',\n  '1004',\n  '1005',\n  '1006',\n  '1008',\n  '1010',\n  '1011',\n  '1012',\n  '1013',\n  '1014',\n  '1019',\n  '1020',\n  '1022',\n  '1023',\n  '1025',\n  '1027',\n  '1028',\n  '1029',\n  '1030',\n  '1031',\n  '1033',\n  '1034',\n  '1035',\n  '1037',\n  '1038',\n  '1039',\n  '1040',\n  '1042',\n  '1043',\n  '1044',\n  '1045',\n  '1046',\n  '1047',\n  '1048',\n  '1049',\n  '1050',\n  '1051',\n  '1052',\n  '1053',\n  '1054',\n  '1056',\n  '1058',\n  '1059',\n  '1060',\n  '1061',\n  '1063',\n  '1065',\n  '1066',\n  '1067',\n  '1068',\n  '1069',\n  '1070',\n  '1072',\n  '1074',\n  '1075',\n  '1076',\n  '1077',\n  '1079',\n  '1080',\n  '1081',\n  '1082',\n  '1083',\n  '1084',\n  '1085',\n  '1087',\n  '1088',\n  '1089',\n  '1090',\n  '1091',\n  '1092',\n  '1093',\n  '1094',\n  '1097',\n  '1098',\n  '1099',\n  '1101',\n  '1102',\n  '1103',\n  '1104',\n  '1106',\n  '1107',\n  '1109',\n  '1110',\n  '1112',\n  '1114',\n  '1115',\n  '1117',\n  '1121',\n  '1122',\n  '1123',\n  '1125',\n  '1128',\n  '1130',\n  '1131',\n  '1133',\n  '1135',\n  '1136',\n  '1137',\n  '1138',\n  '1139',\n  '1140',\n  '1141',\n  '1142',\n  '1143',\n  '1146',\n  '1148',\n  '1149',\n  '1150',\n  '1151',\n  '1152',\n  '1153',\n  '1155',\n  '1157',\n  '1158',\n  '1159',\n  '1160',\n  '1161',\n  '1163',\n  '1164',\n  '1165',\n  '1166',\n  '1167',\n  '1168',\n  '1169',\n  '1170',\n  '1171',\n  '1172',\n  '1173',\n  '1174',\n  '1176',\n  '1177',\n  '1178',\n  '1179',\n  '1180',\n  '1181',\n  '1182',\n  '1184',\n  '1185',\n  '1186',\n  '1188',\n  '1189',\n  '1190',\n  '1191',\n  '1193',\n  '1194',\n  '1196',\n  '1199',\n  '1200',\n  '1203',\n  '1205',\n  '1206',\n  '1207',\n  '1208',\n  '1210',\n  '1211',\n  '1212',\n  '1213',\n  '1214',\n  '1215',\n  '1216',\n  '1217',\n  '1218',\n  '1219',\n  '1220',\n  '1221',\n  '1222',\n  '1223',\n  '1225',\n  '1226',\n  '1228',\n  '1229',\n  '1230',\n  '1231',\n  '1232',\n  '1234',\n  '1235',\n  '1238',\n  '1240',\n  '1241',\n  '1243',\n  '1245',\n  '1246',\n  '1249',\n  '1250',\n  '1251',\n  '1252',\n  '1254',\n  '1255',\n  '1256',\n  '1257',\n  '1258',\n  '1259',\n  '1260',\n  '1262',\n  '1265',\n  '1266',\n  '1267',\n  '1269',\n  '1270',\n  '1271',\n  '1275',\n  '1276',\n  '1278',\n  '1281',\n  '1284',\n  '1285',\n  '1287',\n  '1288',\n  '1289',\n  '1291',\n  '1292',\n  '1294',\n  '1295',\n  '1296',\n  '1297',\n  '1299',\n  '1300',\n  '1301',\n  '1303',\n  '1304',\n  '1305',\n  '1306',\n  '1307',\n  '1313',\n  '1314',\n  '1316',\n  '1317',\n  '1318',\n  '1319',\n  '1321',\n  '1322',\n  '1325',\n  '1330',\n  '1332',\n  '1333',\n  '1335',\n  '1336',\n  '1337',\n  '1338',\n  '1339',\n  '1340',\n  '1341',\n  '1342',\n  '1343',\n  '1344',\n  '1345',\n  '1346',\n  '1347',\n  '1349',\n  '1352',\n  '1353',\n  '1355',\n  '1356',\n  '1357',\n  '1358',\n  '1359',\n  '1360',\n  '1363',\n  '1364',\n  '1366',\n  '1367',\n  '1368',\n  '1369',\n  '1370',\n  '1371',\n  '1372',\n  '1373',\n  '1374',\n  '1375',\n  '1378',\n  '1380',\n  '1381',\n  '1382',\n  '1383',\n  '1384',\n  '1385',\n  '1386',\n  '1388',\n  '1389',\n  '1392',\n  '1393',\n  '1396',\n  '1397',\n  '1398',\n  '1399',\n  ...]}"
     },
     "execution_count": 7,
     "metadata": {},
     "output_type": "execute_result"
    }
   ],
   "source": [
    "train_dict"
   ],
   "metadata": {
    "collapsed": false,
    "ExecuteTime": {
     "end_time": "2024-04-15T16:50:24.126583700Z",
     "start_time": "2024-04-15T16:50:23.969359700Z"
    }
   },
   "id": "ce1a9b11b49ddb08",
   "execution_count": 7
  },
  {
   "cell_type": "code",
   "outputs": [
    {
     "name": "stdout",
     "output_type": "stream",
     "text": [
      "torch.Size([64, 3, 224, 224]) 64\n",
      "76511\n"
     ]
    }
   ],
   "source": [
    "from torch.utils.data import DataLoader\n",
    "from torch.utils.data import Dataset\n",
    "from PIL import Image\n",
    "import torchvision.transforms as transforms\n",
    "\n",
    "class MathFormulaDataset(Dataset):\n",
    "        \n",
    "    def __init__(self, image_path, formulas_list_path, train_path, transform=None):\n",
    "        self.image_path = image_path\n",
    "        self.formulas_list = self.load_formulas(formulas_list_path)\n",
    "        self.data = self.load_data(train_path)\n",
    "        self.transform = transform\n",
    "    \n",
    "    def load_formulas(self, formulas_list_path):\n",
    "        formulas_list = []\n",
    "        with open(formulas_list_path, \"r\") as f:\n",
    "            for line in f:\n",
    "                formulas_list.append(line.strip())\n",
    "        return formulas_list\n",
    "    \n",
    "    def load_data(self, train_path):\n",
    "        data = {\"image\": [], \"id_formula\": []}\n",
    "        with open(train_path, \"r\") as f:\n",
    "            for line in f:\n",
    "                s = line.split()\n",
    "                data[\"image\"].append(s[0])\n",
    "                data[\"id_formula\"].append(int(s[1]) - 1) \n",
    "        return data\n",
    "    \n",
    "    def __len__(self):\n",
    "        return len(self.data[\"image\"])\n",
    "    \n",
    "    def __getitem__(self, idx):\n",
    "        image_name = self.data[\"image\"][idx]\n",
    "        image = Image.open(os.path.join(self.image_path, image_name))\n",
    "        formula_id = self.data[\"id_formula\"][idx]\n",
    "        formula = self.formulas_list[formula_id]\n",
    "        \n",
    "        if self.transform:\n",
    "            image = self.transform(image)\n",
    "        \n",
    "        return image, formula\n",
    "\n",
    "image_path = \"latex_data/latex_data/images_processed\"\n",
    "formulas_list_path = \"latex_data/latex_data/formulas.norm.lst\"\n",
    "train_path = \"latex_data/latex_data/train.lst\"\n",
    "\n",
    "transform = transforms.Compose([\n",
    "    transforms.Resize((224,224)),\n",
    "    transforms.ToTensor(),\n",
    "])\n",
    "\n",
    "dataset = MathFormulaDataset(image_path, formulas_list_path, train_path,transform)\n",
    "data_dl = DataLoader(dataset,batch_size=64,shuffle=True)\n",
    "\n",
    "sample_image, sample_formula = dataset[0]\n",
    "#print(\"Sample formula:\", sample_formula)\n",
    "#sample_image.show()  # Show the sample image\n",
    "for x,y in data_dl:\n",
    "    print(x.shape,len(y))\n",
    "    print(len(dataset))\n",
    "    break"
   ],
   "metadata": {
    "collapsed": false,
    "ExecuteTime": {
     "end_time": "2024-04-18T19:26:16.988516800Z",
     "start_time": "2024-04-18T19:26:16.652508700Z"
    }
   },
   "id": "ee519d3e978e1c78",
   "execution_count": 33
  },
  {
   "cell_type": "code",
   "outputs": [
    {
     "data": {
      "text/plain": "503"
     },
     "execution_count": 79,
     "metadata": {},
     "output_type": "execute_result"
    }
   ],
   "source": [
    "path_2_latex_voacb = \"latex_data/latex_data/latex_vocab.txt\"\n",
    "\n",
    "vocab = []\n",
    "\n",
    "def get_vocab(path):\n",
    "    with open(path,\"r\") as f:\n",
    "        words = f.read().split()\n",
    "    \n",
    "    vocab = {}\n",
    "    idx = 0\n",
    "    for word in words:\n",
    "        if word not in vocab:\n",
    "            vocab[word]=idx\n",
    "            idx +=1 \n",
    "    \n",
    "    special_tokens = ['<PAD>','<UNK>','<SOS>','<EOS>']\n",
    "    for token in special_tokens:\n",
    "        if token not in vocab:\n",
    "            vocab[token] = idx\n",
    "            idx+=1\n",
    "    \n",
    "    \n",
    "    return vocab\n",
    "    \n",
    "vocab = get_vocab(path_2_latex_voacb)\n",
    "len(vocab)"
   ],
   "metadata": {
    "collapsed": false,
    "ExecuteTime": {
     "end_time": "2024-04-18T19:42:31.395679500Z",
     "start_time": "2024-04-18T19:42:31.376025300Z"
    }
   },
   "id": "e31b3955c0cdc803",
   "execution_count": 79
  },
  {
   "cell_type": "code",
   "outputs": [],
   "source": [],
   "metadata": {
    "collapsed": false,
    "ExecuteTime": {
     "end_time": "2024-04-18T19:42:31.959580200Z",
     "start_time": "2024-04-18T19:42:31.936838400Z"
    }
   },
   "id": "159a8eaf0875a32a",
   "execution_count": 79
  },
  {
   "cell_type": "markdown",
   "source": [],
   "metadata": {
    "collapsed": false
   },
   "id": "8ab492c2e00120d5"
  },
  {
   "cell_type": "code",
   "outputs": [],
   "source": [
    "## encoding _+"
   ],
   "metadata": {
    "collapsed": false,
    "ExecuteTime": {
     "end_time": "2024-04-18T19:42:32.375019400Z",
     "start_time": "2024-04-18T19:42:32.368487600Z"
    }
   },
   "id": "c2630b34e49bdc72",
   "execution_count": 80
  },
  {
   "cell_type": "code",
   "outputs": [
    {
     "data": {
      "text/plain": "\u001B[1;35mtorch.Size\u001B[0m\u001B[1m(\u001B[0m\u001B[1m[\u001B[0m\u001B[1;36m64\u001B[0m, \u001B[1;36m3\u001B[0m, \u001B[1;36m224\u001B[0m, \u001B[1;36m224\u001B[0m\u001B[1m]\u001B[0m\u001B[1m)\u001B[0m\n",
      "text/html": "<pre style=\"white-space:pre;overflow-x:auto;line-height:normal;font-family:Menlo,'DejaVu Sans Mono',consolas,'Courier New',monospace\"><span style=\"color: #800080; text-decoration-color: #800080; font-weight: bold\">torch.Size</span><span style=\"font-weight: bold\">([</span><span style=\"color: #008080; text-decoration-color: #008080; font-weight: bold\">64</span>, <span style=\"color: #008080; text-decoration-color: #008080; font-weight: bold\">3</span>, <span style=\"color: #008080; text-decoration-color: #008080; font-weight: bold\">224</span>, <span style=\"color: #008080; text-decoration-color: #008080; font-weight: bold\">224</span><span style=\"font-weight: bold\">])</span>\n</pre>\n"
     },
     "metadata": {},
     "output_type": "display_data"
    },
    {
     "data": {
      "text/plain": "\\partial _ \u001B[1m{\u001B[0m \\mu \u001B[1m}\u001B[0m \u001B[1m<\u001B[0m\u001B[39m T T R \u001B[0m\u001B[1m>\u001B[0m ~ = ~ \u001B[1m(\u001B[0m N _ \u001B[1m{\u001B[0m c \u001B[1m}\u001B[0m ^ \u001B[1m{\u001B[0m \u001B[1;36m2\u001B[0m \u001B[1m}\u001B[0m - \u001B[1;36m1\u001B[0m \u001B[1m)\u001B[0m \\cdot \\left\u001B[1m[\u001B[0m \\mathrm \u001B[1m{\u001B[0m \\vspace \u001B[1m{\u001B[0m \u001B[1;36m2\u001B[0m e x \u001B[1m}\u001B[0m \\mathrm \u001B[1m{\u001B[0m \u001B[1;36m1\u001B[0m \u001B[1m}\u001B[0m\n\u001B[1m}\u001B[0m \\right\u001B[1m]\u001B[0m + \u001B[1;36m2\u001B[0m \\cdot \u001B[1m(\u001B[0m N _ \u001B[1m{\u001B[0m c \u001B[1m}\u001B[0m ^ \u001B[1m{\u001B[0m \u001B[1;36m2\u001B[0m \u001B[1m}\u001B[0m - \u001B[1;36m1\u001B[0m \u001B[1m)\u001B[0m \\cdot \\left\u001B[1m[\u001B[0m - \\frac \u001B[1m{\u001B[0m \u001B[1;36m1\u001B[0m \u001B[1m}\u001B[0m \u001B[1m{\u001B[0m \u001B[1;36m2\u001B[0m \u001B[1m}\u001B[0m \\right\u001B[1m]\u001B[0m = \u001B[1;36m0\u001B[0m ,\n",
      "text/html": "<pre style=\"white-space:pre;overflow-x:auto;line-height:normal;font-family:Menlo,'DejaVu Sans Mono',consolas,'Courier New',monospace\">\\partial _ <span style=\"font-weight: bold\">{</span> \\mu <span style=\"font-weight: bold\">}</span> <span style=\"font-weight: bold\">&lt;</span><span style=\"color: #000000; text-decoration-color: #000000\"> T T R </span><span style=\"font-weight: bold\">&gt;</span> ~ = ~ <span style=\"font-weight: bold\">(</span> N _ <span style=\"font-weight: bold\">{</span> c <span style=\"font-weight: bold\">}</span> ^ <span style=\"font-weight: bold\">{</span> <span style=\"color: #008080; text-decoration-color: #008080; font-weight: bold\">2</span> <span style=\"font-weight: bold\">}</span> - <span style=\"color: #008080; text-decoration-color: #008080; font-weight: bold\">1</span> <span style=\"font-weight: bold\">)</span> \\cdot \\left<span style=\"font-weight: bold\">[</span> \\mathrm <span style=\"font-weight: bold\">{</span> \\vspace <span style=\"font-weight: bold\">{</span> <span style=\"color: #008080; text-decoration-color: #008080; font-weight: bold\">2</span> e x <span style=\"font-weight: bold\">}</span> \\mathrm <span style=\"font-weight: bold\">{</span> <span style=\"color: #008080; text-decoration-color: #008080; font-weight: bold\">1</span> <span style=\"font-weight: bold\">}</span>\n<span style=\"font-weight: bold\">}</span> \\right<span style=\"font-weight: bold\">]</span> + <span style=\"color: #008080; text-decoration-color: #008080; font-weight: bold\">2</span> \\cdot <span style=\"font-weight: bold\">(</span> N _ <span style=\"font-weight: bold\">{</span> c <span style=\"font-weight: bold\">}</span> ^ <span style=\"font-weight: bold\">{</span> <span style=\"color: #008080; text-decoration-color: #008080; font-weight: bold\">2</span> <span style=\"font-weight: bold\">}</span> - <span style=\"color: #008080; text-decoration-color: #008080; font-weight: bold\">1</span> <span style=\"font-weight: bold\">)</span> \\cdot \\left<span style=\"font-weight: bold\">[</span> - \\frac <span style=\"font-weight: bold\">{</span> <span style=\"color: #008080; text-decoration-color: #008080; font-weight: bold\">1</span> <span style=\"font-weight: bold\">}</span> <span style=\"font-weight: bold\">{</span> <span style=\"color: #008080; text-decoration-color: #008080; font-weight: bold\">2</span> <span style=\"font-weight: bold\">}</span> \\right<span style=\"font-weight: bold\">]</span> = <span style=\"color: #008080; text-decoration-color: #008080; font-weight: bold\">0</span> ,\n</pre>\n"
     },
     "metadata": {},
     "output_type": "display_data"
    },
    {
     "data": {
      "text/plain": "<Figure size 500x500 with 1 Axes>",
      "image/png": "[encoded data removed]"
     },
     "metadata": {},
     "output_type": "display_data"
    }
   ],
   "source": [
    "for x,y in data_dl:\n",
    "    print(x.shape)\n",
    "    print(y[0])\n",
    "    show(x[0])\n",
    "    break\n",
    "    "
   ],
   "metadata": {
    "collapsed": false,
    "ExecuteTime": {
     "end_time": "2024-04-18T19:42:32.969670600Z",
     "start_time": "2024-04-18T19:42:32.631358Z"
    }
   },
   "id": "a7578a9d23f0afd3",
   "execution_count": 81
  },
  {
   "cell_type": "code",
   "outputs": [],
   "source": [
    "class Tokenizer: \n",
    "    # Takes as an input the vocab of your text\n",
    "    \n",
    "    def __init__(self,vocab):\n",
    "        self.vocab = vocab\n",
    "        self.reverse_vocab = self._reverse_dict(self.vocab)\n",
    "    def formula_to_tokens(self,formula):\n",
    "        encoding=[]\n",
    "        formula = formula.split()\n",
    "        for ix in formula:\n",
    "            encoding.append(self.vocab[f\"{ix}\"])\n",
    "        return encoding\n",
    "        \n",
    "    def _reverse_dict(self,dict):\n",
    "        return {v:k for k,v in dict.items()}\n",
    "        \n",
    "    def tokens_to_formula(self,tokens):        \n",
    "        decoding = []\n",
    "        for ix in tokens:\n",
    "            decoding.append(self.reverse_vocab[ix])\n",
    "        return decoding\n",
    "    \n",
    "    def get_string(self,encoded_string):\n",
    "        string=''\n",
    "        for i in encoded_string:\n",
    "            string+=' ' + i\n",
    "        string = string[1:]\n",
    "        return string"
   ],
   "metadata": {
    "collapsed": false,
    "ExecuteTime": {
     "end_time": "2024-04-18T20:10:40.097512400Z",
     "start_time": "2024-04-18T20:10:40.076945100Z"
    }
   },
   "id": "c74c896d2b4e2af7",
   "execution_count": 116
  },
  {
   "cell_type": "code",
   "outputs": [
    {
     "data": {
      "text/plain": "Stringul este :P = q ^ \u001B[1m{\u001B[0m I \u001B[1m}\u001B[0m l _ \u001B[1m{\u001B[0m I \u001B[1m}\u001B[0m + n ^ \u001B[1m{\u001B[0m i \u001B[1m}\u001B[0m \u001B[1m{\u001B[0m \\bar \u001B[1m{\u001B[0m k \u001B[1m}\u001B[0m \u001B[1m}\u001B[0m _ \u001B[1m{\u001B[0m i \u001B[1m}\u001B[0m + m _ \u001B[1m{\u001B[0m j \u001B[1m}\u001B[0m k ^ \u001B[1m{\u001B[0m j \u001B[1m}\u001B[0m \\; \\; i = \u001B[1;36m1\u001B[0m , \\dots\n, \u001B[1;36m6\u001B[0m \\; \\; \\; I = \u001B[1;36m1\u001B[0m , \\dots , \u001B[1;36m1\u001B[0m \u001B[1;36m6\u001B[0m\n",
      "text/html": "<pre style=\"white-space:pre;overflow-x:auto;line-height:normal;font-family:Menlo,'DejaVu Sans Mono',consolas,'Courier New',monospace\">Stringul este :P = q ^ <span style=\"font-weight: bold\">{</span> I <span style=\"font-weight: bold\">}</span> l _ <span style=\"font-weight: bold\">{</span> I <span style=\"font-weight: bold\">}</span> + n ^ <span style=\"font-weight: bold\">{</span> i <span style=\"font-weight: bold\">}</span> <span style=\"font-weight: bold\">{</span> \\bar <span style=\"font-weight: bold\">{</span> k <span style=\"font-weight: bold\">}</span> <span style=\"font-weight: bold\">}</span> _ <span style=\"font-weight: bold\">{</span> i <span style=\"font-weight: bold\">}</span> + m _ <span style=\"font-weight: bold\">{</span> j <span style=\"font-weight: bold\">}</span> k ^ <span style=\"font-weight: bold\">{</span> j <span style=\"font-weight: bold\">}</span> \\; \\; i = <span style=\"color: #008080; text-decoration-color: #008080; font-weight: bold\">1</span> , \\dots\n, <span style=\"color: #008080; text-decoration-color: #008080; font-weight: bold\">6</span> \\; \\; \\; I = <span style=\"color: #008080; text-decoration-color: #008080; font-weight: bold\">1</span> , \\dots , <span style=\"color: #008080; text-decoration-color: #008080; font-weight: bold\">1</span> <span style=\"color: #008080; text-decoration-color: #008080; font-weight: bold\">6</span>\n</pre>\n"
     },
     "metadata": {},
     "output_type": "display_data"
    },
    {
     "data": {
      "text/plain": "Stringul encodata : \u001B[1m[\u001B[0m\u001B[1;36m55\u001B[0m, \u001B[1;36m35\u001B[0m, \u001B[1;36m484\u001B[0m, \u001B[1;36m461\u001B[0m, \u001B[1;36m495\u001B[0m, \u001B[1;36m47\u001B[0m, \u001B[1;36m497\u001B[0m, \u001B[1;36m477\u001B[0m, \u001B[1;36m462\u001B[0m, \u001B[1;36m495\u001B[0m, \u001B[1;36m47\u001B[0m, \u001B[1;36m497\u001B[0m, \u001B[1;36m7\u001B[0m, \u001B[1;36m480\u001B[0m, \u001B[1;36m461\u001B[0m, \u001B[1;36m495\u001B[0m, \u001B[1;36m473\u001B[0m, \u001B[1;36m497\u001B[0m, \u001B[1;36m495\u001B[0m, \u001B[1;36m132\u001B[0m, \n\u001B[1;36m495\u001B[0m, \u001B[1;36m476\u001B[0m, \u001B[1;36m497\u001B[0m, \u001B[1;36m497\u001B[0m, \u001B[1;36m462\u001B[0m, \u001B[1;36m495\u001B[0m, \u001B[1;36m473\u001B[0m, \u001B[1;36m497\u001B[0m, \u001B[1;36m7\u001B[0m, \u001B[1;36m478\u001B[0m, \u001B[1;36m462\u001B[0m, \u001B[1;36m495\u001B[0m, \u001B[1;36m475\u001B[0m, \u001B[1;36m497\u001B[0m, \u001B[1;36m476\u001B[0m, \u001B[1;36m461\u001B[0m, \u001B[1;36m495\u001B[0m, \u001B[1;36m475\u001B[0m, \u001B[1;36m497\u001B[0m, \u001B[1;36m78\u001B[0m, \u001B[1;36m78\u001B[0m, \u001B[1;36m473\u001B[0m, \u001B[1;36m35\u001B[0m, \u001B[1;36m20\u001B[0m, \n\u001B[1;36m8\u001B[0m, \u001B[1;36m187\u001B[0m, \u001B[1;36m8\u001B[0m, \u001B[1;36m27\u001B[0m, \u001B[1;36m78\u001B[0m, \u001B[1;36m78\u001B[0m, \u001B[1;36m78\u001B[0m, \u001B[1;36m47\u001B[0m, \u001B[1;36m35\u001B[0m, \u001B[1;36m20\u001B[0m, \u001B[1;36m8\u001B[0m, \u001B[1;36m187\u001B[0m, \u001B[1;36m8\u001B[0m, \u001B[1;36m20\u001B[0m, \u001B[1;36m27\u001B[0m\u001B[1m]\u001B[0m\n",
      "text/html": "<pre style=\"white-space:pre;overflow-x:auto;line-height:normal;font-family:Menlo,'DejaVu Sans Mono',consolas,'Courier New',monospace\">Stringul encodata : <span style=\"font-weight: bold\">[</span><span style=\"color: #008080; text-decoration-color: #008080; font-weight: bold\">55</span>, <span style=\"color: #008080; text-decoration-color: #008080; font-weight: bold\">35</span>, <span style=\"color: #008080; text-decoration-color: #008080; font-weight: bold\">484</span>, <span style=\"color: #008080; text-decoration-color: #008080; font-weight: bold\">461</span>, <span style=\"color: #008080; text-decoration-color: #008080; font-weight: bold\">495</span>, <span style=\"color: #008080; text-decoration-color: #008080; font-weight: bold\">47</span>, <span style=\"color: #008080; text-decoration-color: #008080; font-weight: bold\">497</span>, <span style=\"color: #008080; text-decoration-color: #008080; font-weight: bold\">477</span>, <span style=\"color: #008080; text-decoration-color: #008080; font-weight: bold\">462</span>, <span style=\"color: #008080; text-decoration-color: #008080; font-weight: bold\">495</span>, <span style=\"color: #008080; text-decoration-color: #008080; font-weight: bold\">47</span>, <span style=\"color: #008080; text-decoration-color: #008080; font-weight: bold\">497</span>, <span style=\"color: #008080; text-decoration-color: #008080; font-weight: bold\">7</span>, <span style=\"color: #008080; text-decoration-color: #008080; font-weight: bold\">480</span>, <span style=\"color: #008080; text-decoration-color: #008080; font-weight: bold\">461</span>, <span style=\"color: #008080; text-decoration-color: #008080; font-weight: bold\">495</span>, <span style=\"color: #008080; text-decoration-color: #008080; font-weight: bold\">473</span>, <span style=\"color: #008080; text-decoration-color: #008080; font-weight: bold\">497</span>, <span style=\"color: #008080; text-decoration-color: #008080; font-weight: bold\">495</span>, <span style=\"color: #008080; text-decoration-color: #008080; font-weight: bold\">132</span>, \n<span style=\"color: #008080; text-decoration-color: #008080; font-weight: bold\">495</span>, <span style=\"color: #008080; text-decoration-color: #008080; font-weight: bold\">476</span>, <span style=\"color: #008080; text-decoration-color: #008080; font-weight: bold\">497</span>, <span style=\"color: #008080; text-decoration-color: #008080; font-weight: bold\">497</span>, <span style=\"color: #008080; text-decoration-color: #008080; font-weight: bold\">462</span>, <span style=\"color: #008080; text-decoration-color: #008080; font-weight: bold\">495</span>, <span style=\"color: #008080; text-decoration-color: #008080; font-weight: bold\">473</span>, <span style=\"color: #008080; text-decoration-color: #008080; font-weight: bold\">497</span>, <span style=\"color: #008080; text-decoration-color: #008080; font-weight: bold\">7</span>, <span style=\"color: #008080; text-decoration-color: #008080; font-weight: bold\">478</span>, <span style=\"color: #008080; text-decoration-color: #008080; font-weight: bold\">462</span>, <span style=\"color: #008080; text-decoration-color: #008080; font-weight: bold\">495</span>, <span style=\"color: #008080; text-decoration-color: #008080; font-weight: bold\">475</span>, <span style=\"color: #008080; text-decoration-color: #008080; font-weight: bold\">497</span>, <span style=\"color: #008080; text-decoration-color: #008080; font-weight: bold\">476</span>, <span style=\"color: #008080; text-decoration-color: #008080; font-weight: bold\">461</span>, <span style=\"color: #008080; text-decoration-color: #008080; font-weight: bold\">495</span>, <span style=\"color: #008080; text-decoration-color: #008080; font-weight: bold\">475</span>, <span style=\"color: #008080; text-decoration-color: #008080; font-weight: bold\">497</span>, <span style=\"color: #008080; text-decoration-color: #008080; font-weight: bold\">78</span>, <span style=\"color: #008080; text-decoration-color: #008080; font-weight: bold\">78</span>, <span style=\"color: #008080; text-decoration-color: #008080; font-weight: bold\">473</span>, <span style=\"color: #008080; text-decoration-color: #008080; font-weight: bold\">35</span>, <span style=\"color: #008080; text-decoration-color: #008080; font-weight: bold\">20</span>, \n<span style=\"color: #008080; text-decoration-color: #008080; font-weight: bold\">8</span>, <span style=\"color: #008080; text-decoration-color: #008080; font-weight: bold\">187</span>, <span style=\"color: #008080; text-decoration-color: #008080; font-weight: bold\">8</span>, <span style=\"color: #008080; text-decoration-color: #008080; font-weight: bold\">27</span>, <span style=\"color: #008080; text-decoration-color: #008080; font-weight: bold\">78</span>, <span style=\"color: #008080; text-decoration-color: #008080; font-weight: bold\">78</span>, <span style=\"color: #008080; text-decoration-color: #008080; font-weight: bold\">78</span>, <span style=\"color: #008080; text-decoration-color: #008080; font-weight: bold\">47</span>, <span style=\"color: #008080; text-decoration-color: #008080; font-weight: bold\">35</span>, <span style=\"color: #008080; text-decoration-color: #008080; font-weight: bold\">20</span>, <span style=\"color: #008080; text-decoration-color: #008080; font-weight: bold\">8</span>, <span style=\"color: #008080; text-decoration-color: #008080; font-weight: bold\">187</span>, <span style=\"color: #008080; text-decoration-color: #008080; font-weight: bold\">8</span>, <span style=\"color: #008080; text-decoration-color: #008080; font-weight: bold\">20</span>, <span style=\"color: #008080; text-decoration-color: #008080; font-weight: bold\">27</span><span style=\"font-weight: bold\">]</span>\n</pre>\n"
     },
     "metadata": {},
     "output_type": "display_data"
    },
    {
     "data": {
      "text/plain": "Stringul decodata este: \u001B[1m[\u001B[0m\u001B[32m'P'\u001B[0m, \u001B[32m'='\u001B[0m, \u001B[32m'q'\u001B[0m, \u001B[32m'^'\u001B[0m, \u001B[32m'\u001B[0m\u001B[32m{\u001B[0m\u001B[32m'\u001B[0m, \u001B[32m'I'\u001B[0m, \u001B[32m'\u001B[0m\u001B[32m}\u001B[0m\u001B[32m'\u001B[0m, \u001B[32m'l'\u001B[0m, \u001B[32m'_'\u001B[0m, \u001B[32m'\u001B[0m\u001B[32m{\u001B[0m\u001B[32m'\u001B[0m, \u001B[32m'I'\u001B[0m, \u001B[32m'\u001B[0m\u001B[32m}\u001B[0m\u001B[32m'\u001B[0m, \u001B[32m'+'\u001B[0m, \u001B[32m'n'\u001B[0m, \u001B[32m'^'\u001B[0m, \u001B[32m'\u001B[0m\u001B[32m{\u001B[0m\u001B[32m'\u001B[0m, \u001B[32m'i'\u001B[0m, \u001B[32m'\u001B[0m\u001B[32m}\u001B[0m\u001B[32m'\u001B[0m, \n\u001B[32m'\u001B[0m\u001B[32m{\u001B[0m\u001B[32m'\u001B[0m, \u001B[32m'\\\\bar'\u001B[0m, \u001B[32m'\u001B[0m\u001B[32m{\u001B[0m\u001B[32m'\u001B[0m, \u001B[32m'k'\u001B[0m, \u001B[32m'\u001B[0m\u001B[32m}\u001B[0m\u001B[32m'\u001B[0m, \u001B[32m'\u001B[0m\u001B[32m}\u001B[0m\u001B[32m'\u001B[0m, \u001B[32m'_'\u001B[0m, \u001B[32m'\u001B[0m\u001B[32m{\u001B[0m\u001B[32m'\u001B[0m, \u001B[32m'i'\u001B[0m, \u001B[32m'\u001B[0m\u001B[32m}\u001B[0m\u001B[32m'\u001B[0m, \u001B[32m'+'\u001B[0m, \u001B[32m'm'\u001B[0m, \u001B[32m'_'\u001B[0m, \u001B[32m'\u001B[0m\u001B[32m{\u001B[0m\u001B[32m'\u001B[0m, \u001B[32m'j'\u001B[0m, \u001B[32m'\u001B[0m\u001B[32m}\u001B[0m\u001B[32m'\u001B[0m, \u001B[32m'k'\u001B[0m, \u001B[32m'^'\u001B[0m, \u001B[32m'\u001B[0m\u001B[32m{\u001B[0m\u001B[32m'\u001B[0m, \u001B[32m'j'\u001B[0m, \u001B[32m'\u001B[0m\u001B[32m}\u001B[0m\u001B[32m'\u001B[0m, \u001B[32m'\\\\;'\u001B[0m,\n\u001B[32m'\\\\;'\u001B[0m, \u001B[32m'i'\u001B[0m, \u001B[32m'='\u001B[0m, \u001B[32m'1'\u001B[0m, \u001B[32m','\u001B[0m, \u001B[32m'\\\\dots'\u001B[0m, \u001B[32m','\u001B[0m, \u001B[32m'6'\u001B[0m, \u001B[32m'\\\\;'\u001B[0m, \u001B[32m'\\\\;'\u001B[0m, \u001B[32m'\\\\;'\u001B[0m, \u001B[32m'I'\u001B[0m, \u001B[32m'='\u001B[0m, \u001B[32m'1'\u001B[0m, \u001B[32m','\u001B[0m, \u001B[32m'\\\\dots'\u001B[0m, \u001B[32m','\u001B[0m, \u001B[32m'1'\u001B[0m, \u001B[32m'6'\u001B[0m\u001B[1m]\u001B[0m\n",
      "text/html": "<pre style=\"white-space:pre;overflow-x:auto;line-height:normal;font-family:Menlo,'DejaVu Sans Mono',consolas,'Courier New',monospace\">Stringul decodata este: <span style=\"font-weight: bold\">[</span><span style=\"color: #008000; text-decoration-color: #008000\">'P'</span>, <span style=\"color: #008000; text-decoration-color: #008000\">'='</span>, <span style=\"color: #008000; text-decoration-color: #008000\">'q'</span>, <span style=\"color: #008000; text-decoration-color: #008000\">'^'</span>, <span style=\"color: #008000; text-decoration-color: #008000\">'{'</span>, <span style=\"color: #008000; text-decoration-color: #008000\">'I'</span>, <span style=\"color: #008000; text-decoration-color: #008000\">'}'</span>, <span style=\"color: #008000; text-decoration-color: #008000\">'l'</span>, <span style=\"color: #008000; text-decoration-color: #008000\">'_'</span>, <span style=\"color: #008000; text-decoration-color: #008000\">'{'</span>, <span style=\"color: #008000; text-decoration-color: #008000\">'I'</span>, <span style=\"color: #008000; text-decoration-color: #008000\">'}'</span>, <span style=\"color: #008000; text-decoration-color: #008000\">'+'</span>, <span style=\"color: #008000; text-decoration-color: #008000\">'n'</span>, <span style=\"color: #008000; text-decoration-color: #008000\">'^'</span>, <span style=\"color: #008000; text-decoration-color: #008000\">'{'</span>, <span style=\"color: #008000; text-decoration-color: #008000\">'i'</span>, <span style=\"color: #008000; text-decoration-color: #008000\">'}'</span>, \n<span style=\"color: #008000; text-decoration-color: #008000\">'{'</span>, <span style=\"color: #008000; text-decoration-color: #008000\">'\\\\bar'</span>, <span style=\"color: #008000; text-decoration-color: #008000\">'{'</span>, <span style=\"color: #008000; text-decoration-color: #008000\">'k'</span>, <span style=\"color: #008000; text-decoration-color: #008000\">'}'</span>, <span style=\"color: #008000; text-decoration-color: #008000\">'}'</span>, <span style=\"color: #008000; text-decoration-color: #008000\">'_'</span>, <span style=\"color: #008000; text-decoration-color: #008000\">'{'</span>, <span style=\"color: #008000; text-decoration-color: #008000\">'i'</span>, <span style=\"color: #008000; text-decoration-color: #008000\">'}'</span>, <span style=\"color: #008000; text-decoration-color: #008000\">'+'</span>, <span style=\"color: #008000; text-decoration-color: #008000\">'m'</span>, <span style=\"color: #008000; text-decoration-color: #008000\">'_'</span>, <span style=\"color: #008000; text-decoration-color: #008000\">'{'</span>, <span style=\"color: #008000; text-decoration-color: #008000\">'j'</span>, <span style=\"color: #008000; text-decoration-color: #008000\">'}'</span>, <span style=\"color: #008000; text-decoration-color: #008000\">'k'</span>, <span style=\"color: #008000; text-decoration-color: #008000\">'^'</span>, <span style=\"color: #008000; text-decoration-color: #008000\">'{'</span>, <span style=\"color: #008000; text-decoration-color: #008000\">'j'</span>, <span style=\"color: #008000; text-decoration-color: #008000\">'}'</span>, <span style=\"color: #008000; text-decoration-color: #008000\">'\\\\;'</span>,\n<span style=\"color: #008000; text-decoration-color: #008000\">'\\\\;'</span>, <span style=\"color: #008000; text-decoration-color: #008000\">'i'</span>, <span style=\"color: #008000; text-decoration-color: #008000\">'='</span>, <span style=\"color: #008000; text-decoration-color: #008000\">'1'</span>, <span style=\"color: #008000; text-decoration-color: #008000\">','</span>, <span style=\"color: #008000; text-decoration-color: #008000\">'\\\\dots'</span>, <span style=\"color: #008000; text-decoration-color: #008000\">','</span>, <span style=\"color: #008000; text-decoration-color: #008000\">'6'</span>, <span style=\"color: #008000; text-decoration-color: #008000\">'\\\\;'</span>, <span style=\"color: #008000; text-decoration-color: #008000\">'\\\\;'</span>, <span style=\"color: #008000; text-decoration-color: #008000\">'\\\\;'</span>, <span style=\"color: #008000; text-decoration-color: #008000\">'I'</span>, <span style=\"color: #008000; text-decoration-color: #008000\">'='</span>, <span style=\"color: #008000; text-decoration-color: #008000\">'1'</span>, <span style=\"color: #008000; text-decoration-color: #008000\">','</span>, <span style=\"color: #008000; text-decoration-color: #008000\">'\\\\dots'</span>, <span style=\"color: #008000; text-decoration-color: #008000\">','</span>, <span style=\"color: #008000; text-decoration-color: #008000\">'1'</span>, <span style=\"color: #008000; text-decoration-color: #008000\">'6'</span><span style=\"font-weight: bold\">]</span>\n</pre>\n"
     },
     "metadata": {},
     "output_type": "display_data"
    },
    {
     "data": {
      "text/plain": "Strigul actual este :P = q ^ \u001B[1m{\u001B[0m I \u001B[1m}\u001B[0m l _ \u001B[1m{\u001B[0m I \u001B[1m}\u001B[0m + n ^ \u001B[1m{\u001B[0m i \u001B[1m}\u001B[0m \u001B[1m{\u001B[0m \\bar \u001B[1m{\u001B[0m k \u001B[1m}\u001B[0m \u001B[1m}\u001B[0m _ \u001B[1m{\u001B[0m i \u001B[1m}\u001B[0m + m _ \u001B[1m{\u001B[0m j \u001B[1m}\u001B[0m k ^ \u001B[1m{\u001B[0m j \u001B[1m}\u001B[0m \\; \\; i = \u001B[1;36m1\u001B[0m ,\n\\dots , \u001B[1;36m6\u001B[0m \\; \\; \\; I = \u001B[1;36m1\u001B[0m , \\dots , \u001B[1;36m1\u001B[0m \u001B[1;36m6\u001B[0m\n",
      "text/html": "<pre style=\"white-space:pre;overflow-x:auto;line-height:normal;font-family:Menlo,'DejaVu Sans Mono',consolas,'Courier New',monospace\">Strigul actual este :P = q ^ <span style=\"font-weight: bold\">{</span> I <span style=\"font-weight: bold\">}</span> l _ <span style=\"font-weight: bold\">{</span> I <span style=\"font-weight: bold\">}</span> + n ^ <span style=\"font-weight: bold\">{</span> i <span style=\"font-weight: bold\">}</span> <span style=\"font-weight: bold\">{</span> \\bar <span style=\"font-weight: bold\">{</span> k <span style=\"font-weight: bold\">}</span> <span style=\"font-weight: bold\">}</span> _ <span style=\"font-weight: bold\">{</span> i <span style=\"font-weight: bold\">}</span> + m _ <span style=\"font-weight: bold\">{</span> j <span style=\"font-weight: bold\">}</span> k ^ <span style=\"font-weight: bold\">{</span> j <span style=\"font-weight: bold\">}</span> \\; \\; i = <span style=\"color: #008080; text-decoration-color: #008080; font-weight: bold\">1</span> ,\n\\dots , <span style=\"color: #008080; text-decoration-color: #008080; font-weight: bold\">6</span> \\; \\; \\; I = <span style=\"color: #008080; text-decoration-color: #008080; font-weight: bold\">1</span> , \\dots , <span style=\"color: #008080; text-decoration-color: #008080; font-weight: bold\">1</span> <span style=\"color: #008080; text-decoration-color: #008080; font-weight: bold\">6</span>\n</pre>\n"
     },
     "metadata": {},
     "output_type": "display_data"
    },
    {
     "data": {
      "text/plain": "Asemanatoare\n",
      "text/html": "<pre style=\"white-space:pre;overflow-x:auto;line-height:normal;font-family:Menlo,'DejaVu Sans Mono',consolas,'Courier New',monospace\">Asemanatoare\n</pre>\n"
     },
     "metadata": {},
     "output_type": "display_data"
    }
   ],
   "source": [
    "string = y[5]\n",
    "tokenizer = Tokenizer(vocab)\n",
    "print(f\"Stringul este :{string}\")\n",
    "\n",
    "encoded_string = tokenizer.formula_to_tokens(string)\n",
    "print(f\"Stringul encodata : {encoded_string}\")\n",
    "\n",
    "decoded_string = tokenizer.tokens_to_formula(encoded_string)\n",
    "print(f\"Stringul decodata este: {decoded_string}\")\n",
    "\n",
    "actual_string = tokenizer.get_string(decoded_string)\n",
    "print(f\"Strigul actual este :{actual_string}\")\n",
    "\n",
    "if actual_string == string:\n",
    "    print(\"Asemanatoare\")\n",
    "else:\n",
    "    print(\"AI gresit uratule\")"
   ],
   "metadata": {
    "collapsed": false,
    "ExecuteTime": {
     "end_time": "2024-04-18T20:07:45.082036100Z",
     "start_time": "2024-04-18T20:07:45.054799600Z"
    }
   },
   "id": "5d22a0c3124b207a",
   "execution_count": 115
  },
  {
   "cell_type": "markdown",
   "source": [
    "SA mi bag de mai stiu ce sa fac"
   ],
   "metadata": {
    "collapsed": false
   },
   "id": "b02a1c9544137fe4"
  },
  {
   "cell_type": "code",
   "outputs": [],
   "source": [],
   "metadata": {
    "collapsed": false,
    "ExecuteTime": {
     "end_time": "2024-04-18T19:43:08.738705Z",
     "start_time": "2024-04-18T19:43:08.724666700Z"
    }
   },
   "id": "5e98eb4f31a765cf",
   "execution_count": 84
  },
  {
   "cell_type": "code",
   "outputs": [],
   "source": [],
   "metadata": {
    "collapsed": false
   },
   "id": "fb00a6bb1f02396a"
  }
 ],
 "metadata": {
  "kernelspec": {
   "display_name": "Python 3",
   "language": "python",
   "name": "python3"
  },
  "language_info": {
   "codemirror_mode": {
    "name": "ipython",
    "version": 2
   },
   "file_extension": ".py",
   "mimetype": "text/x-python",
   "name": "python",
   "nbconvert_exporter": "python",
   "pygments_lexer": "ipython2",
   "version": "2.7.6"
  }
 },
 "nbformat": 4,
 "nbformat_minor": 5
}
